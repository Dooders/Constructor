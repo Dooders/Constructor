{
 "cells": [
  {
   "cell_type": "markdown",
   "metadata": {},
   "source": [
    "# Information\n",
    "\n",
    "...\n",
    "\n",
    "### 1. **Information Media and Variables**\n",
    "\n",
    "The paper introduces **information media** as substrates that can carry information, and **information variables** as attributes of these substrates that can be distinguished, cloned, or measured.\n",
    "\n",
    "### Example: Modeling an Information Medium\n",
    "\n",
    "An **information medium** could be a physical system, such as a set of bits (classical information) or qubits (quantum information). You can model an information medium as a substrate with distinguishable variables (states)."
   ]
  },
  {
   "cell_type": "code",
   "execution_count": 1,
   "metadata": {},
   "outputs": [],
   "source": [
    "from constructor import Substrate, Task, Condition"
   ]
  },
  {
   "cell_type": "code",
   "execution_count": 2,
   "metadata": {},
   "outputs": [],
   "source": [
    "class Information(Substrate):\n",
    "    def __init__(self, variables):\n",
    "        \"\"\"\n",
    "        Initialize an Information Medium with a set of distinguishable variables.\n",
    "\n",
    "        :param variables: A list of attributes (information variables) that can be stored.\n",
    "        \"\"\"\n",
    "        self.variables = variables\n",
    "\n",
    "    def clone(self, state):\n",
    "        \"\"\"\n",
    "        Cloning the current state of the medium.\n",
    "        \"\"\"\n",
    "        if state in self.variables:\n",
    "            return state\n",
    "        else:\n",
    "            raise ValueError(\"State not found in information medium.\")\n"
   ]
  },
  {
   "cell_type": "markdown",
   "metadata": {},
   "source": [
    "- **Information Variables**: These are attributes that the medium can store (e.g., classical bits can store `0` or `1`).\n",
    "- **Cloning Task**: In classical information, a cloning task is possible, as opposed to quantum information where it is restricted (no-cloning theorem)."
   ]
  },
  {
   "cell_type": "code",
   "execution_count": 3,
   "metadata": {},
   "outputs": [
    {
     "name": "stdout",
     "output_type": "stream",
     "text": [
      "Cloned state: 0\n"
     ]
    }
   ],
   "source": [
    "# Example usage\n",
    "bit_medium = Information(variables=[\"0\", \"1\"])\n",
    "\n",
    "# Clone the bit\n",
    "cloned_state = bit_medium.clone(\"0\")\n",
    "print(f\"Cloned state: {cloned_state}\")"
   ]
  },
  {
   "cell_type": "markdown",
   "metadata": {},
   "source": [
    "### 2. **Distinguishability and Measurement**\n",
    "\n",
    "Distinguishability is a fundamental task, where a substrate’s states are distinguishable if they can be perfectly identified through measurement.\n",
    "\n",
    "### Example: Distinguishing Between States\n",
    "\n",
    "Here, you can model the distinguishability task as a constructor that takes in different states of the information medium and checks if they are distinguishable."
   ]
  },
  {
   "cell_type": "code",
   "execution_count": 4,
   "metadata": {},
   "outputs": [
    {
     "name": "stdout",
     "output_type": "stream",
     "text": [
      "Is distinguishable: True\n"
     ]
    }
   ],
   "source": [
    "class Distinguish(Task):\n",
    "    def __init__(self, states):\n",
    "        self.states = states\n",
    "\n",
    "    def execute(self, medium, state):\n",
    "        \"\"\"\n",
    "        Perform a distinguish task on a medium. Check if the state is distinguishable.\n",
    "        \"\"\"\n",
    "        return state in medium.variables\n",
    "\n",
    "# Example usage\n",
    "distinguish_task = Distinguish(states=[\"0\", \"1\"])\n",
    "medium = Information(variables=[\"0\", \"1\"])\n",
    "\n",
    "is_distinguishable = distinguish_task.execute(medium, \"0\")\n",
    "print(f\"Is distinguishable: {is_distinguishable}\")\n"
   ]
  },
  {
   "cell_type": "markdown",
   "metadata": {},
   "source": [
    "### 3. **Cloning in Constructor Theory**\n",
    "\n",
    "In the paper, cloning is defined as the ability to copy an information variable. However, in quantum information, cloning is impossible (no-cloning theorem), which can be modeled as an **impossible task**.\n",
    "\n",
    "### Example: Cloning in Classical vs. Quantum Information\n",
    "\n",
    "You can model the cloning task as either possible (for classical information) or impossible (for quantum information)."
   ]
  },
  {
   "cell_type": "code",
   "execution_count": 5,
   "metadata": {},
   "outputs": [],
   "source": [
    "class Clone(Task):\n",
    "    def __init__(self, medium):\n",
    "        self.medium = medium\n",
    "\n",
    "    def execute(self, state):\n",
    "        \"\"\"\n",
    "        Attempt to clone the state. This is impossible for quantum information.\n",
    "        \"\"\"\n",
    "        if state in self.medium.variables:\n",
    "            return state  # Classical cloning is possible\n",
    "        else:\n",
    "            raise ValueError(\"Cloning failed: quantum states cannot be cloned.\")"
   ]
  },
  {
   "cell_type": "markdown",
   "metadata": {},
   "source": [
    "For quantum information, this task would result in an error, representing the no-cloning theorem."
   ]
  },
  {
   "cell_type": "code",
   "execution_count": 6,
   "metadata": {},
   "outputs": [
    {
     "name": "stdout",
     "output_type": "stream",
     "text": [
      "Cloned classical state: 1\n"
     ]
    }
   ],
   "source": [
    "# Example with classical information\n",
    "classical_medium = Information(variables=[\"0\", \"1\"])\n",
    "clone_task = Clone(classical_medium)\n",
    "\n",
    "cloned = clone_task.execute(\"1\")\n",
    "print(f\"Cloned classical state: {cloned}\")\n",
    "\n",
    "# For quantum information, this cloning task would raise an error.\n"
   ]
  },
  {
   "cell_type": "markdown",
   "metadata": {},
   "source": [
    "### 4. **Superinformation and Quantum Information**\n",
    "\n",
    "**Superinformation** describes a scenario in quantum information where certain tasks, like simultaneous measurement of non-commuting variables, are impossible.\n",
    "\n",
    "### Example: Modeling Superinformation\n",
    "\n",
    "You can model superinformation media with tasks that cannot be simultaneously measured or cloned."
   ]
  },
  {
   "cell_type": "code",
   "execution_count": 7,
   "metadata": {},
   "outputs": [],
   "source": [
    "class SuperInformation(Information):\n",
    "    def __init__(self, variables):\n",
    "        super().__init__(variables)\n",
    "\n",
    "    def measure(self, variable):\n",
    "        \"\"\"\n",
    "        Attempt to measure a quantum variable. This may not be possible for superinformation.\n",
    "        \"\"\"\n",
    "        if variable in self.variables:\n",
    "            return variable\n",
    "        else:\n",
    "            raise ValueError(\"Measurement failed: cannot measure non-commuting variables.\")\n"
   ]
  },
  {
   "cell_type": "markdown",
   "metadata": {},
   "source": [
    "In this case, attempting to measure non-commuting variables (e.g., certain quantum states) would result in an error, representing the impossibility of the task."
   ]
  },
  {
   "cell_type": "code",
   "execution_count": 8,
   "metadata": {},
   "outputs": [
    {
     "name": "stdout",
     "output_type": "stream",
     "text": [
      "Measurement failed: cannot measure non-commuting variables.\n"
     ]
    }
   ],
   "source": [
    "# Example with quantum information\n",
    "quantum_medium = SuperInformation(variables=[\"|0>\", \"|1>\"])\n",
    "try:\n",
    "    quantum_medium.measure(\"|+>\")\n",
    "except ValueError as e:\n",
    "    print(e)\n"
   ]
  },
  {
   "cell_type": "markdown",
   "metadata": {},
   "source": [
    "### 5. **Simultaneous Measurement of Non-commuting Observables**\n",
    "\n",
    "In quantum theory, you cannot measure two non-commuting observables at the same time. This can be represented as an impossible task in constructor theory."
   ]
  },
  {
   "cell_type": "code",
   "execution_count": 9,
   "metadata": {},
   "outputs": [],
   "source": [
    "class NonCommutingMeasurement(Task):\n",
    "    def __init__(self, variables):\n",
    "        self.variables = variables\n",
    "\n",
    "    def execute(self, observable_1, observable_2):\n",
    "        \"\"\"\n",
    "        Check if the two observables can be measured simultaneously.\n",
    "        This is impossible for non-commuting observables.\n",
    "        \"\"\"\n",
    "        if observable_1 in self.variables and observable_2 in self.variables:\n",
    "            raise ValueError(\"Simultaneous measurement of non-commuting observables is impossible.\")\n",
    "        return True\n"
   ]
  },
  {
   "cell_type": "code",
   "execution_count": 10,
   "metadata": {},
   "outputs": [
    {
     "name": "stdout",
     "output_type": "stream",
     "text": [
      "Simultaneous measurement of non-commuting observables is impossible.\n"
     ]
    }
   ],
   "source": [
    "# Example usage\n",
    "non_commuting_task = NonCommutingMeasurement(variables=[\"|0>\", \"|1>\"])\n",
    "try:\n",
    "    non_commuting_task.execute(\"|0>\", \"|1>\")\n",
    "except ValueError as e:\n",
    "    print(e)\n"
   ]
  },
  {
   "cell_type": "code",
   "execution_count": null,
   "metadata": {},
   "outputs": [],
   "source": []
  }
 ],
 "metadata": {
  "kernelspec": {
   "display_name": "base",
   "language": "python",
   "name": "python3"
  },
  "language_info": {
   "codemirror_mode": {
    "name": "ipython",
    "version": 3
   },
   "file_extension": ".py",
   "mimetype": "text/x-python",
   "name": "python",
   "nbconvert_exporter": "python",
   "pygments_lexer": "ipython3",
   "version": "3.11.7"
  }
 },
 "nbformat": 4,
 "nbformat_minor": 2
}
