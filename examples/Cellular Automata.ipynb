{
 "cells": [
  {
   "cell_type": "markdown",
   "metadata": {},
   "source": [
    "# Cellular Automata\n",
    "\n",
    "Cellular Automata are computational models consisting of a grid of cells, where each cell evolves based on predefined rules. In the context of Constructor Theory, you can model each **cell** as a substrate and the **rules** governing the evolution of the cellular automaton as tasks that constructors perform on those substrates.\n",
    "\n",
    "Here's how you can model this:\n",
    "\n",
    "### **1. Mapping Cellular Automata to Constructor Theory**\n",
    "\n",
    "- **Cells as Substrates**: Each cell in the grid of the cellular automaton is a substrate. The state of a cell (e.g., `alive` or `dead` in Conway's Game of Life) represents the substrate's state.\n",
    "- **Rules as Tasks**: The transition rules that determine how a cell evolves based on its neighbors can be modeled as tasks. A task in this case would change the state of a cell based on the states of neighboring cells.\n",
    "- **Constructor**: The constructor is responsible for applying the rules (tasks) to each cell in the grid. The constructor iterates through the grid, applying the rules at each time step.\n",
    "\n",
    "### **2. Example: Conway's Game of Life**\n",
    "\n",
    "Let’s blend Constructor Theory with **Conway’s Game of Life**, a well-known example of cellular automata.\n",
    "\n",
    "In Conway’s Game of Life:\n",
    "\n",
    "- A cell can be in one of two states: `alive` or `dead`.\n",
    "- The state of a cell at the next time step depends on the states of its 8 neighbors.\n",
    "    - **Alive** cells with fewer than 2 or more than 3 live neighbors die.\n",
    "    - **Dead** cells with exactly 3 live neighbors become alive.\n",
    "\n",
    "We’ll model this using your Constructor Theory library.\n",
    "\n",
    "### **Step 1: Define the Cell as a Substrate**\n",
    "\n",
    "Each cell in the grid can be a substrate, with its state either `alive` or `dead`."
   ]
  },
  {
   "cell_type": "code",
   "execution_count": null,
   "metadata": {},
   "outputs": [],
   "source": [
    "from constructor import Task, Substrate, Constructor, Condition"
   ]
  },
  {
   "cell_type": "code",
   "execution_count": null,
   "metadata": {},
   "outputs": [],
   "source": [
    "class Cell(Substrate):\n",
    "    def __init__(self, state=\"dead\"):\n",
    "        \"\"\"\n",
    "        Initialize a cell with its state.\n",
    "\n",
    "        :param state: State of the cell, either \"alive\" or \"dead\".\n",
    "        \"\"\"\n",
    "        super().__init__(state=state, name=\"Cell\")\n",
    "\n"
   ]
  },
  {
   "cell_type": "markdown",
   "metadata": {},
   "source": [
    "### **Step 2: Define the Task (Rules for Cell Evolution)**\n",
    "\n",
    "Each rule in Conway’s Game of Life is a task that takes into account the state of neighboring cells and changes the state of the current cell."
   ]
  },
  {
   "cell_type": "code",
   "execution_count": null,
   "metadata": {},
   "outputs": [],
   "source": [
    "class GameOfLife(Task):\n",
    "    def __init__(self, rule_name):\n",
    "        super().__init__(name=rule_name)\n",
    "\n",
    "    def execute(self, cell, neighbors):\n",
    "        \"\"\"\n",
    "        Perform the task of applying Game of Life rules to a cell.\n",
    "\n",
    "        :param cell: The cell to apply the rule to.\n",
    "        :param neighbors: List of neighboring cells.\n",
    "        :return: The new state of the cell.\n",
    "        \"\"\"\n",
    "        alive_neighbors = sum(1 for neighbor in neighbors if neighbor.state == \"alive\")\n",
    "\n",
    "        if cell.state == \"alive\":\n",
    "            if alive_neighbors < 2 or alive_neighbors > 3:\n",
    "                return \"dead\"  # Cell dies due to under/overpopulation\n",
    "        else:\n",
    "            if alive_neighbors == 3:\n",
    "                return \"alive\"  # Cell becomes alive through reproduction\n",
    "\n",
    "        return cell.state  # No change"
   ]
  },
  {
   "cell_type": "markdown",
   "metadata": {},
   "source": [
    "### **Step 3: Define the Constructor (Engine for Rule Application)**\n",
    "\n",
    "The constructor iterates through the grid, applying the rules to each cell. This is the entity that performs the task of updating each cell based on its neighbors."
   ]
  },
  {
   "cell_type": "code",
   "execution_count": null,
   "metadata": {},
   "outputs": [],
   "source": [
    "class Automaton(Constructor):\n",
    "    def __init__(self, name, capabilities):\n",
    "        \"\"\"\n",
    "        Initialize the constructor for applying cellular automata rules.\n",
    "\n",
    "        :param name: Name of the constructor.\n",
    "        :param capabilities: List of tasks the constructor can perform.\n",
    "        \"\"\"\n",
    "        super().__init__(name=name, capabilities=capabilities)\n",
    "\n",
    "    # @Constructor.execute\n",
    "    def perform(self, task, grid):\n",
    "        \"\"\"\n",
    "        Perform the task (apply rules) to all cells in the grid.\n",
    "\n",
    "        :param task: The rule to apply.\n",
    "        :param grid: The grid of cells (2D list).\n",
    "        \"\"\"\n",
    "        rows = len(grid)\n",
    "        cols = len(grid[0])\n",
    "\n",
    "        # Create a copy of the grid to store the next state\n",
    "        next_grid = [[Cell() for _ in range(cols)] for _ in range(rows)]\n",
    "\n",
    "        # Iterate through each cell\n",
    "        for i in range(rows):\n",
    "            for j in range(cols):\n",
    "                # Get the current cell's neighbors\n",
    "                neighbors = self.get_neighbors(grid, i, j)\n",
    "                # Apply the task (rule) to determine the new state\n",
    "                new_state = task.execute(grid[i][j], neighbors)\n",
    "                next_grid[i][j].state = new_state\n",
    "\n",
    "        return next_grid\n",
    "\n",
    "    def get_neighbors(self, grid, row, col):\n",
    "        \"\"\"\n",
    "        Get the neighboring cells of a given cell in the grid.\n",
    "\n",
    "        :param grid: The grid of cells.\n",
    "        :param row: Row index of the cell.\n",
    "        :param col: Column index of the cell.\n",
    "        :return: List of neighboring cells.\n",
    "        \"\"\"\n",
    "        neighbors = []\n",
    "        rows = len(grid)\n",
    "        cols = len(grid[0])\n",
    "\n",
    "        # Check 8 possible neighbors (including diagonal)\n",
    "        for i in [-1, 0, 1]:\n",
    "            for j in [-1, 0, 1]:\n",
    "                if not (i == 0 and j == 0):  # Skip the cell itself\n",
    "                    new_row, new_col = row + i, col + j\n",
    "                    if 0 <= new_row < rows and 0 <= new_col < cols:\n",
    "                        neighbors.append(grid[new_row][new_col])\n",
    "\n",
    "        return neighbors\n"
   ]
  },
  {
   "cell_type": "markdown",
   "metadata": {},
   "source": [
    "### **Step 4: Run the Simulation**\n",
    "\n",
    "Now we can define a grid of cells, initialize the constructor, and apply the rules to evolve the automaton over multiple generations."
   ]
  },
  {
   "cell_type": "markdown",
   "metadata": {},
   "source": [
    "### **Explanation**:\n",
    "\n",
    "1. **Substrates (Cells)**: Each cell is a substrate with a state (`\"alive\"` or `\"dead\"`).\n",
    "2. **Tasks (Rules)**: The tasks define how each cell evolves based on its neighbors' states. These are Conway’s Game of Life rules.\n",
    "3. **Constructor**: The constructor (`Life Engine`) applies the rules to the entire grid at each time step, updating the grid to the next generation."
   ]
  },
  {
   "cell_type": "code",
   "execution_count": null,
   "metadata": {},
   "outputs": [],
   "source": [
    "from constructor.util import (\n",
    "    save_grid_image_to_memory,\n",
    "    create_gif_in_memory,\n",
    "    display_gif_in_notebook,\n",
    "    create_dynamic_centered_grid\n",
    ")\n",
    "y = 11\n",
    "grid = [[Cell(\"dead\") for _ in range(y)] for _ in range(y)]\n",
    "grid = create_dynamic_centered_grid(grid, y, alive_fraction=0.2)  # 20% of cells in the central region will be alive\n",
    "\n",
    "# Define the Game of Life task\n",
    "game_of_life_task = GameOfLife(rule_name=\"Conway's Game of Life\")\n",
    "\n",
    "# Define the constructor\n",
    "automaton_constructor = Automaton(name=\"Life Engine\", capabilities=[game_of_life_task])\n",
    "\n",
    "# Number of generations for the simulation\n",
    "num_generations = 15\n",
    "image_frames = []\n",
    "\n",
    "# Run the simulation and store images in memory for each generation\n",
    "for generation in range(num_generations):\n",
    "    img = save_grid_image_to_memory(grid)  # Save image of current grid to memory\n",
    "    image_frames.append(img)\n",
    "    grid = automaton_constructor.perform(game_of_life_task, grid)\n",
    "\n",
    "# Create GIF in memory\n",
    "gif_data = create_gif_in_memory(image_frames)\n",
    "\n",
    "# Display the GIF in the notebook\n",
    "display_gif_in_notebook(gif_data)"
   ]
  },
  {
   "cell_type": "code",
   "execution_count": null,
   "metadata": {},
   "outputs": [],
   "source": []
  }
 ],
 "metadata": {
  "kernelspec": {
   "display_name": "base",
   "language": "python",
   "name": "python3"
  },
  "language_info": {
   "codemirror_mode": {
    "name": "ipython",
    "version": 3
   },
   "file_extension": ".py",
   "mimetype": "text/x-python",
   "name": "python",
   "nbconvert_exporter": "python",
   "pygments_lexer": "ipython3",
   "version": "3.11.7"
  }
 },
 "nbformat": 4,
 "nbformat_minor": 2
}
