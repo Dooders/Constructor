{
 "cells": [
  {
   "cell_type": "markdown",
   "metadata": {},
   "source": [
    "# Thermodynamics with `Constructor`\n"
   ]
  },
  {
   "cell_type": "markdown",
   "metadata": {},
   "source": [
    "Use tasks, substrates, and constructors within a thermodynamic framework. \n",
    "\n",
    "Below is a guide on how you can model these examples using `Constructor`.\n"
   ]
  },
  {
   "cell_type": "markdown",
   "metadata": {},
   "source": [
    "### **1. Defining Substrates for Thermodynamics**\n",
    "\n",
    "In Constructor Theory, a **substrate** is any physical system that undergoes \n",
    "changes in its properties through tasks. In thermodynamics, this could represent \n",
    "physical systems like gases, engines, or other work media.\n",
    "\n",
    "### Example:\n",
    "\n",
    "You can create a substrate that models a **medium**, such as a ball in a \n",
    "gravitational field, with a set of states representing its position (e.g., height levels)."
   ]
  },
  {
   "cell_type": "code",
   "execution_count": null,
   "metadata": {},
   "outputs": [],
   "source": [
    "# Imports\n",
    "from constructor import Task, Substrate, Constructor, Condition"
   ]
  },
  {
   "cell_type": "code",
   "execution_count": null,
   "metadata": {},
   "outputs": [],
   "source": [
    "class Medium(Substrate):\n",
    "    def __init__(self, state: dict):\n",
    "        \"\"\"\n",
    "        A work medium representing a ball in a gravitational field.\n",
    "\n",
    "        > state: The initial state (e.g., height level) of the medium.\n",
    "        \"\"\"\n",
    "        super().__init__(name=\"Medium\", state=state)\n"
   ]
  },
  {
   "cell_type": "markdown",
   "metadata": {},
   "source": [
    "### **2. Defining Thermodynamic Tasks**\n",
    "\n",
    "Tasks in thermodynamics typically involve transformations, such as changing the \n",
    "state of the system (e.g., moving a move_ball to a higher or lower position, or compressing gas).\n",
    "\n",
    "### Example:\n",
    "\n",
    "You can create tasks that represent **work** (e.g., moving a ball) or **heat transfer** between systems. For simplicity, here’s an example where a task represents moving a ball to a higher state."
   ]
  },
  {
   "cell_type": "code",
   "execution_count": null,
   "metadata": {},
   "outputs": [],
   "source": [
    "class Move(Task):\n",
    "    def __init__(self, name: str, input_state: dict, output_state: dict) -> None:\n",
    "        \"\"\"\n",
    "        A task representing moving a ball(work) in thermodynamics.\n",
    "\n",
    "        > name: Name of the task.\n",
    "        > input_state: The initial state (e.g., current height).\n",
    "        > output_state: The target state (e.g., new height).\n",
    "        \"\"\"\n",
    "        super().__init__(name=name, input_state=input_state, output_state=output_state,)\n",
    "        \n",
    "        def _execute(substrate):\n",
    "            substrate.state = self.output_state"
   ]
  },
  {
   "cell_type": "markdown",
   "metadata": {},
   "source": [
    "### **3. Modeling Constructors (Engines or Devices)**\n",
    "\n",
    "In Constructor Theory, a **constructor** is an entity that performs tasks repeatedly without being degraded. You can model constructors as devices capable of performing thermodynamic tasks.\n",
    "\n",
    "### Example:\n",
    "\n",
    "Here’s an example of a constructor that can perform the task of moving a move_ball between states (performing work)."
   ]
  },
  {
   "cell_type": "code",
   "execution_count": null,
   "metadata": {},
   "outputs": [],
   "source": [
    "class Engine(Constructor):\n",
    "    def __init__(self, name: str, capabilities: list[Task]) -> None:\n",
    "        \"\"\"\n",
    "        A constructor (engine) that can perform work tasks.\n",
    "\n",
    "        > name: Name of the constructor.\n",
    "        > capabilities: List of tasks this constructor can perform.\n",
    "        \"\"\"\n",
    "        super().__init__(name=name, capabilities=capabilities)"
   ]
  },
  {
   "cell_type": "markdown",
   "metadata": {},
   "source": [
    "### **4. Example: Applying Constructor Theory to Joule’s Experiment**\n",
    "\n",
    "In Joule's experiment, a move_ball is dropped, stirring water and raising its temperature. You can model the move_ball as a **medium** and the task as moving the move_ball, which in turn performs the task of increasing the temperature of a system (heat transfer).\n",
    "\n",
    "### Example Implementation:\n",
    "\n",
    "1. **Substrate**: The move_ball and the water can be two separate substrates.\n",
    "2. **Task**: The task involves moving the move_ball and transferring heat to the water.\n",
    "3. **Constructor**: An engine (constructor) that stirs the water by moving the move_ball."
   ]
  },
  {
   "cell_type": "code",
   "execution_count": null,
   "metadata": {},
   "outputs": [],
   "source": [
    "class Water(Substrate):\n",
    "    def __init__(self, state: dict) -> None:\n",
    "        super().__init__(name=\"Water\", state=state)\n",
    "\n",
    "    def heat_up(self, amount: float) -> bool:\n",
    "        #! shouldn't this be a task?\n",
    "        \"\"\"\n",
    "        Increase the temperature of the water.\n",
    "\n",
    "        > amount: Amount to increase the temperature by.\n",
    "        \"\"\"\n",
    "        self.state[\"temperature\"] += amount\n",
    "        return True\n",
    "\n",
    "# Task of moving the ball\n",
    "move_ball = Move(\"Move ball Down\", input_state={\"height\": 2}, output_state={\"height\": 1})\n",
    "\n",
    "# Constructor (Engine) capable of performing the move ball task\n",
    "engine = Engine(name=\"Joule's Engine\", capabilities=[move_ball])\n",
    "\n",
    "# Substrates\n",
    "ball = Medium(state={\"height\": 2})  # Initially the ball is at height 2\n",
    "water = Water(state={\"temperature\": 20})  # Initial temperature of the water\n",
    "\n",
    "# Perform the task\n",
    "if engine.perform(move_ball, ball):\n",
    "    print(f\"Current ball state: {ball.state}, Current water state: {water.state}\")\n",
    "    water.heat_up(5)  # Heat up the water as a side effect\n",
    "    print(f\"New ball state: {ball.state}, New water state: {water.state}\")\n"
   ]
  },
  {
   "cell_type": "markdown",
   "metadata": {},
   "source": [
    "### **5. Adding Thermodynamic Conditions**\n",
    "\n",
    "Adiabatic accessibility refers to the conditions under which transformations can happen (such as work without heat transfer). You can model these **conditions** with `Constructor`.\n",
    "\n",
    "### Example:\n",
    "\n",
    "Add a condition that checks whether the task is adiabatically possible, i.e., whether the work can be done without transferring heat (or vice versa)."
   ]
  },
  {
   "cell_type": "code",
   "execution_count": null,
   "metadata": {},
   "outputs": [],
   "source": [
    "class Adiabatic(Condition):\n",
    "    def __init__(self, name: str):\n",
    "        super().__init__(name=name, check_function=self._check_temperature)\n",
    "\n",
    "    def _check_temperature(self, water):\n",
    "        \"\"\"\n",
    "        Check if the task can be performed adiabatically (no heat transfer).\n",
    "        In this simplified example, it checks if the work medium and water are isolated.\n",
    "        \"\"\"\n",
    "        # Example condition: If water temperature doesn't change, task is adiabatic\n",
    "        return water.state[\"temperature\"] == 20  # Assume 20 is the equilibrium temperature\n"
   ]
  },
  {
   "cell_type": "markdown",
   "metadata": {},
   "source": [
    "### **6. Example of Using the Condition in the Simulation**\n",
    "\n",
    "You can now simulate the conditions under which tasks are possible or impossible based on the constructor theory of thermodynamics."
   ]
  },
  {
   "cell_type": "code",
   "execution_count": null,
   "metadata": {},
   "outputs": [],
   "source": [
    "adiabatic_condition = Adiabatic(name=\"Adiabatic\")\n",
    "\n",
    "# Check if the task can be performed adiabatically\n",
    "if adiabatic_condition.check(water):\n",
    "    if engine.perform(move_ball, ball):\n",
    "        print(\"Task performed adiabatically.\")\n",
    "    else:\n",
    "        print(\"Task failed.\")\n",
    "else:\n",
    "    print(\"Task not adiabatic, heat will be transferred.\")\n"
   ]
  },
  {
   "cell_type": "markdown",
   "metadata": {},
   "source": [
    "### **Conclusion:**\n",
    "\n",
    "Using `Constructor`, you can model a variety of thermodynamic systems and their transformations as per the [Constructor Theory of Thermodynamics](https://www.constructortheory.org/portfolio/constructor-theory-thermodynamics/). By defining substrates (like balls and heat reservoirs), tasks (like moving a ball or transferring heat), and constructors (like engines), you can simulate and explore the principles of thermodynamics outlined in the paper, focusing on tasks being possible or impossible under specific conditions.\n",
    "\n",
    "This approach allows you to create modular and flexible simulations that adhere to the principles of constructor theory while exploring complex thermodynamic behaviors."
   ]
  },
  {
   "cell_type": "code",
   "execution_count": null,
   "metadata": {},
   "outputs": [],
   "source": []
  }
 ],
 "metadata": {
  "kernelspec": {
   "display_name": "base",
   "language": "python",
   "name": "python3"
  },
  "language_info": {
   "codemirror_mode": {
    "name": "ipython",
    "version": 3
   },
   "file_extension": ".py",
   "mimetype": "text/x-python",
   "name": "python",
   "nbconvert_exporter": "python",
   "pygments_lexer": "ipython3",
   "version": "3.11.7"
  }
 },
 "nbformat": 4,
 "nbformat_minor": 2
}
